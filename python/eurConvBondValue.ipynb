{
 "metadata": {
  "language_info": {
   "codemirror_mode": {
    "name": "ipython",
    "version": 3
   },
   "file_extension": ".py",
   "mimetype": "text/x-python",
   "name": "python",
   "nbconvert_exporter": "python",
   "pygments_lexer": "ipython3",
   "version": "3.8.3"
  },
  "orig_nbformat": 2,
  "kernelspec": {
   "name": "python383jvsc74a57bd0dca0ade3e726a953b501b15e8e990130d2b7799f14cfd9f4271676035ebe5511",
   "display_name": "Python 3.8.3 64-bit ('base': conda)"
  }
 },
 "nbformat": 4,
 "nbformat_minor": 2,
 "cells": [
  {
   "cell_type": "code",
   "execution_count": 121,
   "metadata": {},
   "outputs": [],
   "source": [
    "def read_(title, task):\n",
    "    if task == 1:\n",
    "        return pd.read_csv(\"/Users/rubenexojo/Library/Mobile Documents/com~apple~CloudDocs/MSc Mathematical Finance - Manchester/subjects/II_semester/MATH60082_computational_finance/c++/assignment2/data/task1/\" + str(title)+ \".csv\")\n",
    "    if task == 2:\n",
    "        return pd.read_csv(\"/Users/rubenexojo/Library/Mobile Documents/com~apple~CloudDocs/MSc Mathematical Finance - Manchester/subjects/II_semester/MATH60082_computational_finance/c++/assignment2/data/task2/\" + str(title)+ \".csv\")\n",
    "\n",
    "def diffs_(L):\n",
    "    diff = []\n",
    "    for i in range(1,len(L)):\n",
    "        diff.append(abs(L[i]-L[i-1]))\n",
    "    return diff\n",
    "\n",
    "def richardson_(L, order = 2., pr = False):\n",
    "    diff = []\n",
    "    for i in range(1,len(L)):\n",
    "        extrap = (2**order * L[i]-L[i-1]) / (2 ** order - 1)\n",
    "        diff.append(extrap)\n",
    "        if pr is True:\n",
    "            print(L[i], extrap)\n",
    "    return diff\n",
    "\n",
    "def ratios_(diff):\n",
    "    ratios = []\n",
    "    newJ   = []\n",
    "    for i in range(1, len(diff)):\n",
    "        if diff[i-1] != 0 and diff[i] != 0:\n",
    "            ratios.append(diff[i-1] / diff[i])\n",
    "    return ratios\n",
    "\n",
    "def print_extrap(I, J, V, extrap, extrap1, extrap2=[]):\n",
    "    for i in range(len(extrap)):\n",
    "        if i == 0:\n",
    "            print(I[i+1], J[i+1], V[i+1], extrap[i], ' ')\n",
    "        if extrap2 == []:\n",
    "            if i >= 1:\n",
    "                print(I[i+1], J[i+1], V[i+1], extrap[i], extrap1[i-1])\n",
    "        else:\n",
    "            if i == 1:\n",
    "                print(I[i+1], J[i+1], V[i+1], extrap[i], extrap1[i-1], '-')\n",
    "            if i > 1:\n",
    "                print(I[i+1], J[i+1], V[i+1], extrap[i], extrap1[i-1], extrap2[i-2])\n",
    "\n",
    "def in_rows_extrap(I, J, V, extrap, extrap1, extrap2 = []):\n",
    "    rows = []\n",
    "    for i in range(len(extrap)):\n",
    "        if i == 0:\n",
    "            rows.append([I[i+1], J[i+1], V[i+1], extrap[i], '-'])\n",
    "        if extrap2 == []:\n",
    "            if i >= 1:\n",
    "                rows.append([I[i+1], J[i+1], V[i+1], extrap[i], extrap1[i-1]])\n",
    "        else:\n",
    "            if i == 1:\n",
    "                rows.append([I[i+1], J[i+1], V[i+1], extrap[i], extrap1[i-1], '-'])\n",
    "            if i > 1:\n",
    "                rows.append([I[i+1], J[i+1], V[i+1], extrap[i], extrap1[i-1], extrap2[i-2]])\n",
    "    return rows\n",
    "\n",
    "def open_table(title):\n",
    "    return open(\"/Users/rubenexojo/Library/Mobile Documents/com~apple~CloudDocs/MSc Mathematical Finance - Manchester/subjects/II_semester/MATH60082_computational_finance/c++/assignment2/tex/tables/\" + str(title) + \".txt\",\"w\")"
   ]
  },
  {
   "cell_type": "code",
   "execution_count": 2,
   "metadata": {},
   "outputs": [],
   "source": [
    "import pandas as pd\n",
    "from tabulate import tabulate"
   ]
  },
  {
   "cell_type": "code",
   "execution_count": 143,
   "metadata": {},
   "outputs": [],
   "source": [
    "def results_(deg, timesX, numExtraps = 2, task=1):\n",
    "    df      = read_(\"eurConvBondValues_increasing_iMax_and_jMax_deg\" + str(deg) + \"_Smax\" +str(timesX) + \"X\", 1)\n",
    "    I       = df['I'].tolist()\n",
    "    J       = df['J'].tolist()\n",
    "    V       = df['V'].tolist()\n",
    "    extrap1 = richardson_(V, 2)\n",
    "    extrap2 = richardson_(extrap1, 1)\n",
    "    extrap3 = richardson_(extrap1, 1)\n",
    "    print()\n",
    "    print(\"EXTRAPOLATION WITH LAGRANGE INTERPOLATION OF DEGREE \" + str(deg) + \" AND Smax=\" +str(timesX) + \"X\")\n",
    "    print(\"------------------------------------------------------\")\n",
    "    tabulate.LATEX_ESCAPE_RULES={}\n",
    "    file1 = open_table(\"Task1_deg8_Smax8X_values\")\n",
    "    if numExtraps == 2:\n",
    "        print_extrap(I, J, V, extrap1, extrap2)\n",
    "        table = tabulate(in_rows_extrap(I, J, V, extrap1, extrap2), tablefmt='latex_raw', floatfmt=\".10f\")\n",
    "        file1.write(table)\n",
    "        file2 = open_table(\"Task1_deg8_Smax8X_ratios\")\n",
    "        table2 = tabulate([ratios_(diffs_(V)), ratios_(diffs_(extrap1)), ratios_(diffs_(extrap2))], tablefmt='latex_raw', floatfmt=\".5f\")\n",
    "        file2.write(table2)\n",
    "    if numExtraps == 3:\n",
    "        print_extrap(I,J,V, extrap1, extrap2, extrap3)\n",
    "        table1 = tabulate(in_rows_extrap(I, J, V, extrap1, extrap2, extrap3), tablefmt='latex_raw', floatfmt=\".10f\")\n",
    "        file1.write(table1)\n",
    "        file2 = open_table(\"Task1_deg8_Smax8X_ratios\")\n",
    "        table2 = tabulate([ratios_(diffs_(V)), ratios_(diffs_(extrap1))], tablefmt='latex_raw', floatfmt=\".5f\")\n",
    "        file2.write(table2)\n",
    "    print()\n",
    "    print(ratios_(diffs_(V)))\n",
    "    print(ratios_(diffs_(extrap1)))\n",
    "    print(ratios_(diffs_(extrap2)))\n",
    "    return V\n"
   ]
  },
  {
   "cell_type": "code",
   "execution_count": 137,
   "metadata": {},
   "outputs": [
    {
     "output_type": "stream",
     "name": "stdout",
     "text": [
      "\nEXTRAPOLATION WITH LAGRANGE INTERPOLATION OF DEGREE16and Smax=8X\n------------------------------------------------------\n48 48 42.004891853800004 42.05957206326667  \n96 96 42.0412438594 42.053361194599994 42.047150325933316\n192 192 42.0486740302 42.051150753799995 42.048940312999996\n384 384 42.0497380652 42.050092743533334 42.04903473326667\n768 768 42.0496093308 42.04956641933334 42.04904009513334\n1536 1536 42.049572263 42.04955990706667 42.04955339480001\n3072 3072 42.049564783 42.04956228966667 42.04956467226666\n\n[4.512560605460196, 4.892485863177949, 6.983013528650557, 8.265350986230995, 3.4729441724888748, 4.955588234948513]\n[2.809787381177709, 2.089243242388631, 2.0101873838782605, 80.82043120029755, 2.733260589336123]\n[18.957657393593767, 17.609588692229185, 0.01044587989821698, 45.51551180588376]\n"
     ]
    }
   ],
   "source": [
    "V = results_(16,8)"
   ]
  },
  {
   "cell_type": "code",
   "execution_count": 151,
   "metadata": {},
   "outputs": [
    {
     "output_type": "stream",
     "name": "stdout",
     "text": [
      "\nEXTRAPOLATION WITH LAGRANGE INTERPOLATION OF DEGREE 16 AND Smax=32X\n------------------------------------------------------\n128 128 41.938500677 42.079197694166666  \n256 256 42.0266003549 42.05596691419999 42.03273613423332\n512 512 42.0458211849 42.05222812823333 42.04848934226667\n1024 1024 42.049419778899995 42.05061931023332 42.049010492233315\n2048 2048 42.049726805700004 42.049829147966676 42.04903898570003\n\n[4.791062368912596, 4.583552213925657, 5.341205481925121, 11.72078137769711]\n[6.213455430138373, 2.3239334509197214, 2.0360602725765253]\n[30.227782867921686, 18.290156542122624]\n"
     ]
    }
   ],
   "source": [
    "V = results_(16,27)"
   ]
  },
  {
   "cell_type": "code",
   "execution_count": 140,
   "metadata": {},
   "outputs": [
    {
     "output_type": "execute_result",
     "data": {
      "text/plain": [
       "45.175967"
      ]
     },
     "metadata": {},
     "execution_count": 140
    }
   ],
   "source": [
    "8.979847 + 36.19612"
   ]
  },
  {
   "cell_type": "code",
   "execution_count": 141,
   "metadata": {},
   "outputs": [
    {
     "output_type": "execute_result",
     "data": {
      "text/plain": [
       "126.985821"
      ]
     },
     "metadata": {},
     "execution_count": 141
    }
   ],
   "source": [
    "172.161788 - (8.979847 + 36.19612)"
   ]
  }
 ]
}