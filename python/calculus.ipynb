{
 "metadata": {
  "language_info": {
   "codemirror_mode": {
    "name": "ipython",
    "version": 3
   },
   "file_extension": ".py",
   "mimetype": "text/x-python",
   "name": "python",
   "nbconvert_exporter": "python",
   "pygments_lexer": "ipython3",
   "version": "3.8.3"
  },
  "orig_nbformat": 2,
  "kernelspec": {
   "name": "python383jvsc74a57bd0dca0ade3e726a953b501b15e8e990130d2b7799f14cfd9f4271676035ebe5511",
   "display_name": "Python 3.8.3 64-bit ('base': conda)"
  }
 },
 "nbformat": 4,
 "nbformat_minor": 2,
 "cells": [
  {
   "cell_type": "code",
   "execution_count": 12,
   "metadata": {
    "tags": []
   },
   "outputs": [],
   "source": [
    "def divisors_(number):\n",
    "    div = []\n",
    "    for i in range(1, number + 1):\n",
    "        if number % i == 0:\n",
    "            div.append(i)\n",
    "    return div\n",
    "\n",
    "S0 = 17.38\n",
    "X = S\n",
    "\n",
    "j=2\n",
    "while (j <= 20000):\n",
    "    k=16\n",
    "    Smax = k * X\n",
    "    dS = S0 / j\n",
    "\n",
    "    grid = []\n",
    "    for j_ in range(j):\n",
    "        grid.append(j_*dS)\n",
    "    j*=2\n",
    "    if S0 in grid:\n",
    "        print(\"S0 is in the grid when Smax=\" + str(k) + \"X and j=\" + str(j))\n"
   ]
  },
  {
   "cell_type": "code",
   "execution_count": null,
   "metadata": {},
   "outputs": [],
   "source": []
  },
  {
   "cell_type": "code",
   "execution_count": null,
   "metadata": {},
   "outputs": [],
   "source": []
  },
  {
   "source": [
    "import numpy as np\n",
    "t0 = 0.96151\n",
    "T  = 3\n",
    "i0 = 9\n",
    "I  = 3*int(np.ceil(i0 * T / t0))\n",
    "dt = T / I\n",
    "grid = []\n",
    "for i_ in range(I):\n",
    "    grid.append(i_*dt)\n",
    "grid"
   ],
   "cell_type": "code",
   "metadata": {},
   "execution_count": 11,
   "outputs": [
    {
     "output_type": "execute_result",
     "data": {
      "text/plain": [
       "[0.0,\n",
       " 0.034482758620689655,\n",
       " 0.06896551724137931,\n",
       " 0.10344827586206896,\n",
       " 0.13793103448275862,\n",
       " 0.1724137931034483,\n",
       " 0.20689655172413793,\n",
       " 0.24137931034482757,\n",
       " 0.27586206896551724,\n",
       " 0.3103448275862069,\n",
       " 0.3448275862068966,\n",
       " 0.3793103448275862,\n",
       " 0.41379310344827586,\n",
       " 0.4482758620689655,\n",
       " 0.48275862068965514,\n",
       " 0.5172413793103449,\n",
       " 0.5517241379310345,\n",
       " 0.5862068965517241,\n",
       " 0.6206896551724138,\n",
       " 0.6551724137931034,\n",
       " 0.6896551724137931,\n",
       " 0.7241379310344828,\n",
       " 0.7586206896551724,\n",
       " 0.7931034482758621,\n",
       " 0.8275862068965517,\n",
       " 0.8620689655172413,\n",
       " 0.896551724137931,\n",
       " 0.9310344827586207,\n",
       " 0.9655172413793103,\n",
       " 1.0,\n",
       " 1.0344827586206897,\n",
       " 1.0689655172413792,\n",
       " 1.103448275862069,\n",
       " 1.1379310344827587,\n",
       " 1.1724137931034482,\n",
       " 1.206896551724138,\n",
       " 1.2413793103448276,\n",
       " 1.2758620689655171,\n",
       " 1.3103448275862069,\n",
       " 1.3448275862068966,\n",
       " 1.3793103448275863,\n",
       " 1.4137931034482758,\n",
       " 1.4482758620689655,\n",
       " 1.4827586206896552,\n",
       " 1.5172413793103448,\n",
       " 1.5517241379310345,\n",
       " 1.5862068965517242,\n",
       " 1.6206896551724137,\n",
       " 1.6551724137931034,\n",
       " 1.6896551724137931,\n",
       " 1.7241379310344827,\n",
       " 1.7586206896551724,\n",
       " 1.793103448275862,\n",
       " 1.8275862068965516,\n",
       " 1.8620689655172413,\n",
       " 1.896551724137931,\n",
       " 1.9310344827586206,\n",
       " 1.9655172413793103,\n",
       " 2.0,\n",
       " 2.0344827586206895,\n",
       " 2.0689655172413794,\n",
       " 2.103448275862069,\n",
       " 2.1379310344827585,\n",
       " 2.1724137931034484,\n",
       " 2.206896551724138,\n",
       " 2.2413793103448274,\n",
       " 2.2758620689655173,\n",
       " 2.310344827586207,\n",
       " 2.3448275862068964,\n",
       " 2.3793103448275863,\n",
       " 2.413793103448276,\n",
       " 2.4482758620689653,\n",
       " 2.4827586206896552,\n",
       " 2.5172413793103448,\n",
       " 2.5517241379310343,\n",
       " 2.586206896551724,\n",
       " 2.6206896551724137,\n",
       " 2.655172413793103,\n",
       " 2.689655172413793,\n",
       " 2.7241379310344827,\n",
       " 2.7586206896551726,\n",
       " 2.793103448275862,\n",
       " 2.8275862068965516,\n",
       " 2.8620689655172415,\n",
       " 2.896551724137931,\n",
       " 2.9310344827586206,\n",
       " 2.9655172413793105]"
      ]
     },
     "metadata": {},
     "execution_count": 11
    }
   ]
  },
  {
   "cell_type": "code",
   "execution_count": null,
   "metadata": {},
   "outputs": [],
   "source": []
  },
  {
   "cell_type": "code",
   "execution_count": null,
   "metadata": {},
   "outputs": [],
   "source": []
  },
  {
   "cell_type": "code",
   "execution_count": null,
   "metadata": {},
   "outputs": [],
   "source": []
  },
  {
   "cell_type": "code",
   "execution_count": null,
   "metadata": {},
   "outputs": [],
   "source": []
  },
  {
   "cell_type": "code",
   "execution_count": null,
   "metadata": {},
   "outputs": [],
   "source": []
  },
  {
   "cell_type": "code",
   "execution_count": null,
   "metadata": {},
   "outputs": [],
   "source": []
  },
  {
   "cell_type": "code",
   "execution_count": null,
   "metadata": {},
   "outputs": [],
   "source": []
  },
  {
   "cell_type": "code",
   "execution_count": null,
   "metadata": {},
   "outputs": [],
   "source": []
  },
  {
   "cell_type": "code",
   "execution_count": null,
   "metadata": {},
   "outputs": [],
   "source": []
  },
  {
   "cell_type": "code",
   "execution_count": null,
   "metadata": {},
   "outputs": [],
   "source": []
  },
  {
   "cell_type": "code",
   "execution_count": null,
   "metadata": {},
   "outputs": [],
   "source": []
  },
  {
   "cell_type": "code",
   "execution_count": null,
   "metadata": {},
   "outputs": [],
   "source": []
  },
  {
   "cell_type": "code",
   "execution_count": null,
   "metadata": {},
   "outputs": [],
   "source": []
  },
  {
   "cell_type": "code",
   "execution_count": null,
   "metadata": {},
   "outputs": [],
   "source": []
  },
  {
   "cell_type": "code",
   "execution_count": null,
   "metadata": {},
   "outputs": [],
   "source": []
  },
  {
   "cell_type": "code",
   "execution_count": null,
   "metadata": {},
   "outputs": [],
   "source": []
  },
  {
   "cell_type": "code",
   "execution_count": null,
   "metadata": {},
   "outputs": [],
   "source": []
  },
  {
   "cell_type": "code",
   "execution_count": null,
   "metadata": {},
   "outputs": [],
   "source": []
  },
  {
   "cell_type": "code",
   "execution_count": null,
   "metadata": {},
   "outputs": [],
   "source": []
  },
  {
   "cell_type": "code",
   "execution_count": null,
   "metadata": {},
   "outputs": [],
   "source": []
  },
  {
   "cell_type": "code",
   "execution_count": null,
   "metadata": {},
   "outputs": [],
   "source": []
  },
  {
   "cell_type": "code",
   "execution_count": null,
   "metadata": {},
   "outputs": [],
   "source": []
  },
  {
   "cell_type": "code",
   "execution_count": null,
   "metadata": {},
   "outputs": [],
   "source": []
  },
  {
   "cell_type": "code",
   "execution_count": null,
   "metadata": {},
   "outputs": [],
   "source": []
  },
  {
   "cell_type": "code",
   "execution_count": null,
   "metadata": {},
   "outputs": [],
   "source": []
  },
  {
   "cell_type": "code",
   "execution_count": null,
   "metadata": {},
   "outputs": [],
   "source": []
  },
  {
   "cell_type": "code",
   "execution_count": null,
   "metadata": {},
   "outputs": [],
   "source": []
  },
  {
   "cell_type": "code",
   "execution_count": null,
   "metadata": {},
   "outputs": [],
   "source": []
  },
  {
   "cell_type": "code",
   "execution_count": null,
   "metadata": {},
   "outputs": [],
   "source": []
  },
  {
   "cell_type": "code",
   "execution_count": null,
   "metadata": {},
   "outputs": [],
   "source": []
  },
  {
   "cell_type": "code",
   "execution_count": null,
   "metadata": {},
   "outputs": [],
   "source": []
  },
  {
   "cell_type": "code",
   "execution_count": null,
   "metadata": {},
   "outputs": [],
   "source": []
  },
  {
   "cell_type": "code",
   "execution_count": null,
   "metadata": {},
   "outputs": [],
   "source": []
  },
  {
   "cell_type": "code",
   "execution_count": null,
   "metadata": {},
   "outputs": [],
   "source": []
  },
  {
   "cell_type": "code",
   "execution_count": null,
   "metadata": {},
   "outputs": [],
   "source": []
  },
  {
   "cell_type": "code",
   "execution_count": null,
   "metadata": {},
   "outputs": [],
   "source": []
  },
  {
   "cell_type": "code",
   "execution_count": null,
   "metadata": {},
   "outputs": [],
   "source": []
  },
  {
   "cell_type": "code",
   "execution_count": null,
   "metadata": {},
   "outputs": [],
   "source": []
  },
  {
   "cell_type": "code",
   "execution_count": null,
   "metadata": {},
   "outputs": [],
   "source": []
  },
  {
   "cell_type": "code",
   "execution_count": null,
   "metadata": {},
   "outputs": [],
   "source": []
  },
  {
   "cell_type": "code",
   "execution_count": null,
   "metadata": {},
   "outputs": [],
   "source": []
  },
  {
   "cell_type": "code",
   "execution_count": null,
   "metadata": {},
   "outputs": [],
   "source": []
  },
  {
   "cell_type": "code",
   "execution_count": null,
   "metadata": {},
   "outputs": [],
   "source": []
  },
  {
   "cell_type": "code",
   "execution_count": null,
   "metadata": {},
   "outputs": [],
   "source": []
  },
  {
   "cell_type": "code",
   "execution_count": null,
   "metadata": {},
   "outputs": [],
   "source": []
  },
  {
   "cell_type": "code",
   "execution_count": 11,
   "metadata": {},
   "outputs": [
    {
     "output_type": "execute_result",
     "data": {
      "text/plain": [
       "3"
      ]
     },
     "metadata": {},
     "execution_count": 11
    }
   ],
   "source": [
    "a = 3.456\n",
    "int(np.floor(a))"
   ]
  },
  {
   "cell_type": "code",
   "execution_count": null,
   "metadata": {},
   "outputs": [],
   "source": []
  },
  {
   "cell_type": "code",
   "execution_count": null,
   "metadata": {},
   "outputs": [],
   "source": []
  },
  {
   "cell_type": "code",
   "execution_count": null,
   "metadata": {},
   "outputs": [],
   "source": []
  },
  {
   "cell_type": "code",
   "execution_count": null,
   "metadata": {},
   "outputs": [],
   "source": []
  },
  {
   "cell_type": "code",
   "execution_count": null,
   "metadata": {},
   "outputs": [],
   "source": []
  },
  {
   "cell_type": "code",
   "execution_count": null,
   "metadata": {},
   "outputs": [],
   "source": []
  },
  {
   "cell_type": "code",
   "execution_count": null,
   "metadata": {},
   "outputs": [],
   "source": []
  },
  {
   "cell_type": "code",
   "execution_count": null,
   "metadata": {},
   "outputs": [],
   "source": []
  },
  {
   "cell_type": "code",
   "execution_count": null,
   "metadata": {},
   "outputs": [],
   "source": []
  },
  {
   "cell_type": "code",
   "execution_count": null,
   "metadata": {},
   "outputs": [],
   "source": []
  },
  {
   "cell_type": "code",
   "execution_count": null,
   "metadata": {},
   "outputs": [],
   "source": []
  },
  {
   "cell_type": "code",
   "execution_count": null,
   "metadata": {},
   "outputs": [],
   "source": []
  },
  {
   "cell_type": "code",
   "execution_count": null,
   "metadata": {},
   "outputs": [],
   "source": []
  },
  {
   "cell_type": "code",
   "execution_count": null,
   "metadata": {},
   "outputs": [],
   "source": []
  },
  {
   "cell_type": "code",
   "execution_count": 16,
   "metadata": {},
   "outputs": [],
   "source": [
    "def grid_(j):\n",
    "    Smax = 8 * X\n",
    "    dS = Smax / j\n",
    "\n",
    "    grid = []\n",
    "    for j_ in range(j):\n",
    "        grid.append(j_*dS)\n",
    "    j*=2\n",
    "    print(S in grid)\n",
    "    return grid"
   ]
  }
 ]
}